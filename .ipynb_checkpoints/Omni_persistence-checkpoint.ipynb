{
 "cells": [
  {
   "cell_type": "code",
   "execution_count": 1,
   "id": "014a8ebc",
   "metadata": {},
   "outputs": [],
   "source": [
    "import torch\n",
    "import torch.nn as nn\n",
    "import numpy as np\n",
    "import pandas as pd\n",
    "import os\n",
    "#from utils.utils import L1_data, SWMF\n",
    "import time\n",
    "import datetime as dt\n",
    "import psutil\n",
    "from PIL import Image\n",
    "import matplotlib.pyplot as plt\n",
    "from random import shuffle\n",
    "import glob\n",
    "import scipy.stats"
   ]
  },
  {
   "cell_type": "code",
   "execution_count": 2,
   "id": "f1e6fc79",
   "metadata": {},
   "outputs": [],
   "source": [
    "def ids_from_df(df):\n",
    "    time  = dt.datetime(int(df['YEAR']), 1, 1) + dt.timedelta(df['DOY'] - 1)\n",
    "    month = time.month\n",
    "    year  = time.year\n",
    "    day   = time.day\n",
    "    hour = int(df['Hour']) \n",
    "    id_ = str(year).zfill(2) + str(month).zfill(2) + str(day).zfill(2) + '_' + str(hour).zfill(2)\n",
    "    return id_"
   ]
  },
  {
   "cell_type": "code",
   "execution_count": 3,
   "id": "203fb894",
   "metadata": {},
   "outputs": [],
   "source": [
    "shift = 1\n",
    "oversample = True\n",
    "format_ = []\n",
    "with open('./omni_hourly_format.txt', 'r') as file:\n",
    "    for i,line in enumerate(file):\n",
    "        if i > 3:\n",
    "            b = line.split('  ')[0].split()[1:]\n",
    "            title = ' '.join(b)\n",
    "            format_.append(title)\n",
    "            #print(i,title)\n",
    "labels = pd.read_csv('./omni_hourly.txt', sep='\\s+', names = format_ )"
   ]
  },
  {
   "cell_type": "code",
   "execution_count": 4,
   "id": "ed7e4ec6",
   "metadata": {},
   "outputs": [],
   "source": [
    "labels['SW speed moving avg'] =  labels['SW Plasma Speed, km/s'].rolling(window=24).mean()\n",
    "labels['SW density moving avg'] =  labels['SW Proton Density, N/cm^3'].rolling(window=24).mean()\n",
    "labels = labels.iloc[24:]"
   ]
  },
  {
   "cell_type": "code",
   "execution_count": 5,
   "id": "17b2423a",
   "metadata": {},
   "outputs": [],
   "source": [
    "labels['ids']   = labels.apply(ids_from_df, axis=1)"
   ]
  },
  {
   "cell_type": "code",
   "execution_count": 6,
   "id": "4fa2b61c",
   "metadata": {},
   "outputs": [],
   "source": [
    "dates = labels['ids'].to_list()"
   ]
  },
  {
   "cell_type": "code",
   "execution_count": 7,
   "id": "56072f27",
   "metadata": {},
   "outputs": [],
   "source": [
    "OMNI_dict = labels.set_index('ids').T.to_dict()"
   ]
  },
  {
   "cell_type": "code",
   "execution_count": null,
   "id": "e5aeb7ee",
   "metadata": {},
   "outputs": [],
   "source": []
  },
  {
   "cell_type": "code",
   "execution_count": 8,
   "id": "32950781",
   "metadata": {},
   "outputs": [
    {
     "data": {
      "text/plain": [
       "'20080212_16'"
      ]
     },
     "execution_count": 8,
     "metadata": {},
     "output_type": "execute_result"
    }
   ],
   "source": [
    "dates[1000]"
   ]
  },
  {
   "cell_type": "code",
   "execution_count": 9,
   "id": "c889c2cc",
   "metadata": {},
   "outputs": [
    {
     "data": {
      "text/plain": [
       "'20080211_16'"
      ]
     },
     "execution_count": 9,
     "metadata": {},
     "output_type": "execute_result"
    }
   ],
   "source": [
    "dates[1000 - 24]"
   ]
  },
  {
   "cell_type": "code",
   "execution_count": null,
   "id": "8d4c2b11",
   "metadata": {},
   "outputs": [],
   "source": []
  },
  {
   "cell_type": "code",
   "execution_count": 10,
   "id": "f859c917",
   "metadata": {},
   "outputs": [],
   "source": [
    "def calc_persistence(OMNI_dict, qty, shift):\n",
    "    true = []\n",
    "    shifted = []\n",
    "    \n",
    "    for i in range(shift + 24, len(dates)):        \n",
    "        true.append(OMNI_dict[dates[i] ][qty])\n",
    "        shifted.append(OMNI_dict[dates[i - shift*24] ][qty])\n",
    "            \n",
    "    return scipy.stats.pearsonr(true, shifted)[0]"
   ]
  },
  {
   "cell_type": "code",
   "execution_count": 11,
   "id": "4f9b06dd",
   "metadata": {},
   "outputs": [
    {
     "name": "stdout",
     "output_type": "stream",
     "text": [
      "YEAR\n",
      "DOY\n",
      "Hour\n",
      "Bartels rotation number\n",
      "ID for IMF spacecraft\n",
      "ID for SW Plasma spacecraft\n",
      "# of points in IMF averages\n",
      "# of points in Plasma averag. I4\n",
      "Scalar B, nT\n",
      "Vector B Magnitude,nT\n",
      "Lat. Angle of B (GSE)\n",
      "Long. Angle of B (GSE)\n",
      "BX, nT (GSE, GSM)\n",
      "BY, nT (GSE)\n",
      "BZ, nT (GSE)\n",
      "BY, nT (GSM)\n",
      "BZ, nT (GSM)\n",
      "RMS_magnitude, nT\n",
      "RMS_field_vector, nT\n",
      "RMS_BX_GSE, nT\n",
      "RMS_BY_GSE, nT\n",
      "SW Plasma Temperature, K\n",
      "SW Proton Density, N/cm^3\n",
      "SW Plasma Speed, km/s\n",
      "SW Plasma flow long. angle\n",
      "SW Plasma flow lat. angle\n",
      "Alpha/Prot. ratio\n",
      "sigma-T,K\n",
      "sigma-n, N/cm^3)\n",
      "sigma-V, km/s\n",
      "sigma-phi V, degrees\n",
      "sigma-theta V, degrees\n",
      "sigma-ratio\n",
      "Flow pressure\n",
      "E elecrtric field\n",
      "Plasma Beta\n",
      "Alfen mach number\n",
      "Magnetosonic Much num.\n",
      "Quasy-Invariant\n",
      "Kp index\n",
      "R (Sunspot No.)\n",
      "Dst-index, nT\n",
      "ap_index, nT\n",
      "f10.7_index\n",
      "AE-index, nT\n",
      "AL-index, nT\n",
      "AU-index, nT\n",
      "pc-index\n",
      "Lyman_alpha\n",
      "Proton flux (>1 Mev)\n",
      "Proton flux (>2 Mev)\n",
      "Proton flux (>4 Mev)\n",
      "Proton flux (>10 Mev)\n",
      "Proton flux (>30 Mev)\n",
      "Proton flux (>60 Mev)\n",
      "Flux FLAG\n",
      "SW speed moving avg\n",
      "SW density moving avg\n",
      "ids\n"
     ]
    }
   ],
   "source": [
    "for col in labels.columns:\n",
    "    print(col)"
   ]
  },
  {
   "cell_type": "code",
   "execution_count": 14,
   "id": "8efc5167",
   "metadata": {},
   "outputs": [
    {
     "data": {
      "text/plain": [
       "0.29780785252055775"
      ]
     },
     "execution_count": 14,
     "metadata": {},
     "output_type": "execute_result"
    }
   ],
   "source": [
    "calc_persistence(OMNI_dict, 'SW speed moving avg', 1)"
   ]
  },
  {
   "cell_type": "code",
   "execution_count": 12,
   "id": "0380295d",
   "metadata": {},
   "outputs": [
    {
     "data": {
      "text/plain": [
       "0.36890474375276544"
      ]
     },
     "execution_count": 12,
     "metadata": {},
     "output_type": "execute_result"
    }
   ],
   "source": [
    "calc_persistence(OMNI_dict, 'SW density moving avg', 1)"
   ]
  },
  {
   "cell_type": "code",
   "execution_count": 14,
   "id": "e9854042",
   "metadata": {},
   "outputs": [
    {
     "name": "stdout",
     "output_type": "stream",
     "text": [
      "Shift:  1\n",
      "0.298  , SW speed moving avg\n",
      "0.369  , SW density moving avg\n",
      "\n",
      "\n",
      "Shift:  2\n",
      "0.046  , SW speed moving avg\n",
      "0.22  , SW density moving avg\n",
      "\n",
      "\n",
      "Shift:  3\n",
      "0.024  , SW speed moving avg\n",
      "0.2  , SW density moving avg\n",
      "\n",
      "\n",
      "Shift:  4\n",
      "0.084  , SW speed moving avg\n",
      "0.147  , SW density moving avg\n",
      "\n",
      "\n",
      "Shift:  5\n",
      "0.095  , SW speed moving avg\n",
      "0.157  , SW density moving avg\n",
      "\n",
      "\n",
      "Shift:  6\n",
      "0.044  , SW speed moving avg\n",
      "0.104  , SW density moving avg\n",
      "\n",
      "\n",
      "Shift:  7\n",
      "0.031  , SW speed moving avg\n",
      "0.073  , SW density moving avg\n",
      "\n",
      "\n"
     ]
    }
   ],
   "source": [
    "shifts = [1, 2, 3, 4, 5, 6, 7]\n",
    "\n",
    "for shift in shifts:\n",
    "    print(\"Shift: \", shift)\n",
    "    var = 'SW speed moving avg'\n",
    "    print(str(round(calc_persistence(OMNI_dict, var, shift), 3)), \" , \" +  var)\n",
    "    var = 'SW density moving avg'\n",
    "    print(str(round(calc_persistence(OMNI_dict, var, shift), 3)), \" , \" +  var)\n",
    "       \n",
    "    print('\\n')"
   ]
  },
  {
   "cell_type": "code",
   "execution_count": null,
   "id": "739c5b74",
   "metadata": {},
   "outputs": [],
   "source": []
  },
  {
   "cell_type": "code",
   "execution_count": null,
   "id": "7c073d11",
   "metadata": {},
   "outputs": [],
   "source": []
  },
  {
   "cell_type": "code",
   "execution_count": null,
   "id": "9fde5c43",
   "metadata": {},
   "outputs": [],
   "source": []
  },
  {
   "cell_type": "code",
   "execution_count": 85,
   "id": "9a8e71f9",
   "metadata": {
    "scrolled": false
   },
   "outputs": [
    {
     "name": "stdout",
     "output_type": "stream",
     "text": [
      "Shift:  1\n",
      "0.096  , SW Plasma Speed, km/s\n",
      "0.038  , Scalar B, nT\n",
      "0.034  , BZ, nT (GSM)\n",
      "0.134  , SW Proton Density, N/cm^3\n",
      "0.039  , SW Plasma Temperature, K\n",
      "\n",
      "\n",
      "Shift:  2\n",
      "0.016  , SW Plasma Speed, km/s\n",
      "-0.001  , Scalar B, nT\n",
      "-0.002  , BZ, nT (GSM)\n",
      "0.114  , SW Proton Density, N/cm^3\n",
      "0.034  , SW Plasma Temperature, K\n",
      "\n",
      "\n",
      "Shift:  3\n",
      "0.002  , SW Plasma Speed, km/s\n",
      "-0.002  , Scalar B, nT\n",
      "-0.002  , BZ, nT (GSM)\n",
      "0.119  , SW Proton Density, N/cm^3\n",
      "0.006  , SW Plasma Temperature, K\n",
      "\n",
      "\n",
      "Shift:  4\n",
      "0.058  , SW Plasma Speed, km/s\n",
      "-0.002  , Scalar B, nT\n",
      "-0.001  , BZ, nT (GSM)\n",
      "0.072  , SW Proton Density, N/cm^3\n",
      "0.026  , SW Plasma Temperature, K\n",
      "\n",
      "\n",
      "Shift:  5\n",
      "0.071  , SW Plasma Speed, km/s\n",
      "0.066  , Scalar B, nT\n",
      "0.059  , BZ, nT (GSM)\n",
      "0.096  , SW Proton Density, N/cm^3\n",
      "0.038  , SW Plasma Temperature, K\n",
      "\n",
      "\n",
      "Shift:  6\n",
      "0.004  , SW Plasma Speed, km/s\n",
      "0.015  , Scalar B, nT\n",
      "0.013  , BZ, nT (GSM)\n",
      "0.057  , SW Proton Density, N/cm^3\n",
      "-0.001  , SW Plasma Temperature, K\n",
      "\n",
      "\n",
      "Shift:  7\n",
      "0.012  , SW Plasma Speed, km/s\n",
      "0.013  , Scalar B, nT\n",
      "00.01  , BZ, nT (GSM)\n",
      "0.035  , SW Proton Density, N/cm^3\n",
      "0.004  , SW Plasma Temperature, K\n",
      "\n",
      "\n"
     ]
    }
   ],
   "source": [
    "shifts = [1, 2, 3, 4, 5, 6, 7]\n",
    "\n",
    "for shift in shifts:\n",
    "    print(\"Shift: \", shift)\n",
    "    print(str(round(calc_persistence(OMNI_dict, 'SW Plasma Speed, km/s', shift), 3)).zfill(5), \" , SW Plasma Speed, km/s\")\n",
    "    print(str(round(calc_persistence(OMNI_dict, 'Scalar B, nT', shift), 3)).zfill(5), \" , Scalar B, nT\")    \n",
    "    print(str(round(calc_persistence(OMNI_dict, 'BZ, nT (GSM)', shift), 3)).zfill(5), \" , BZ, nT (GSM)\")    \n",
    "    print(str(round(calc_persistence(OMNI_dict, 'SW Proton Density, N/cm^3', shift), 3)).zfill(5), \" , SW Proton Density, N/cm^3\")    \n",
    "    print(str(round(calc_persistence(OMNI_dict, 'SW Plasma Temperature, K', shift), 3)).zfill(5), \" , SW Plasma Temperature, K\")    \n",
    "    print('\\n')"
   ]
  },
  {
   "cell_type": "code",
   "execution_count": 72,
   "id": "3b41757d",
   "metadata": {},
   "outputs": [],
   "source": [
    "a = np.arange(40000,41000,24)"
   ]
  },
  {
   "cell_type": "code",
   "execution_count": 75,
   "id": "551c1654",
   "metadata": {},
   "outputs": [
    {
     "data": {
      "text/plain": [
       "(0.0, 800.0)"
      ]
     },
     "execution_count": 75,
     "metadata": {},
     "output_type": "execute_result"
    },
    {
     "data": {
      "image/png": "[encoded data removed]",
      "text/plain": [
       "<Figure size 432x288 with 1 Axes>"
      ]
     },
     "metadata": {
      "needs_background": "light"
     },
     "output_type": "display_data"
    }
   ],
   "source": [
    "plt.plot( labels['SW Plasma Speed, km/s']  )\n",
    "for i in a:\n",
    "    plt.axvline(i)\n",
    "plt.xlim(40000,41000)\n",
    "plt.ylim(0,800)"
   ]
  },
  {
   "cell_type": "code",
   "execution_count": null,
   "id": "3adaa498",
   "metadata": {},
   "outputs": [],
   "source": []
  }
 ],
 "metadata": {
  "kernelspec": {
   "display_name": "Python 3 (ipykernel)",
   "language": "python",
   "name": "python3"
  },
  "language_info": {
   "codemirror_mode": {
    "name": "ipython",
    "version": 3
   },
   "file_extension": ".py",
   "mimetype": "text/x-python",
   "name": "python",
   "nbconvert_exporter": "python",
   "pygments_lexer": "ipython3",
   "version": "3.9.12"
  }
 },
 "nbformat": 4,
 "nbformat_minor": 5
}
